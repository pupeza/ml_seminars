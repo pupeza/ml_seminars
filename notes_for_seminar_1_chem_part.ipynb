{
 "cells": [
  {
   "cell_type": "code",
   "execution_count": null,
   "id": "7ca2e328-a422-4ab6-888b-adfb76fe0bc4",
   "metadata": {},
   "outputs": [],
   "source": [
    "### Pandas понадобится нам для работы с данными\n",
    "import pandas as pd\n",
    "### Различные подмодули из rdkit\n",
    "from rdkit import Chem\n",
    "from rdkit.Chem import Descriptors\n",
    "from rdkit.Chem import Draw\n",
    "from rdkit.Chem import AllChem\n",
    "from rdkit.Chem import rdFMCS\n",
    "from rdkit.Chem.Draw import IPythonConsole\n",
    "### для сохранения в файл\n",
    "import pickle\n",
    "### для работы с файловой системой\n",
    "import os\n",
    "### для отрисовки\n",
    "from matplotlib import pyplot as plt\n",
    "from matplotlib.image import NonUniformImage\n",
    "### Для работы с массивами\n",
    "import numpy as np\n",
    "\n",
    "### Переменная, указывающая папку с нашими файлами\n",
    "data_folder = \"/home/alex/ml_lectures\""
   ]
  },
  {
   "cell_type": "code",
   "execution_count": null,
   "id": "fb001940-93a3-4be4-8469-eafb79a09ac2",
   "metadata": {},
   "outputs": [],
   "source": [
    "df1 = pd.read_csv(os.path.join(data_folder,\"bace.csv\"))\n",
    "### Оставляем только столбы, которые нас интересуют\n",
    "df = df1[[\"smiles\", \"Class\", \"Model\", \"pIC50\", \"AlogP\"]].copy()\n",
    "### Хорошим тоном будет чистить за собой и не захломлять память\n",
    "del df1\n",
    "### Простой вызов DataFrame позволяет красиво отрисовывать таблицу с помощью matplotlib\n",
    "df"
   ]
  },
  {
   "cell_type": "code",
   "execution_count": null,
   "id": "7e1077c5-35b4-43ad-8bd8-2b3634b59344",
   "metadata": {},
   "outputs": [],
   "source": [
    "### При анализе стоит внимательно смотреть на данные\n",
    "### тут можно и построчно вызывать df[\"pIC50\"].min(), df[\"pIC50\"].max\n",
    "### но циклом элегантнее\n",
    "from pandas import Series as ps\n",
    "print(\"Average data for pIC50\")\n",
    "for function,name in zip( [ps.min, ps.max, ps.mean, ps.median], [\"min\", \"max\", \"mean\", \"median\"] ):\n",
    "    print(\"{:>10} is {:>5.2f}.\".format(name, function(df[\"pIC50\"])))\n",
    "df[\"pIC50\"].hist(bins=20)"
   ]
  },
  {
   "cell_type": "markdown",
   "id": "79d1c018-a5bf-4c98-bd25-8480e0215108",
   "metadata": {
    "tags": []
   },
   "source": [
    "#### __2.3 Чтение из SDF файла__\n",
    "Может случиться и так, что вам необходимо прочитать данные  \n",
    "из файла с 2D/3D структурами и фичами. \n",
    "RDKit предоставляет простой способ чтения SDF файлов"
   ]
  },
  {
   "cell_type": "code",
   "execution_count": null,
   "id": "76eb516a-4511-46da-8322-71faa78c738c",
   "metadata": {
    "tags": []
   },
   "outputs": [],
   "source": [
    "### Взглянем на структуру SDF файла\n",
    "### 1-ой строкой идет параметр _Name. \n",
    "### В нашем случае он совпадает со значением в столбце smiles\n",
    "### Далее идут блоки атомов и связей, а затем блок доп фичей\n",
    "with open(os.path.join(data_folder,\"bace.sdf\")) as fsdf:\n",
    "    lines = fsdf.readlines()\n",
    "for line in lines[:170]:\n",
    "    print(line, end=\"\")\n",
    "del lines"
   ]
  },
  {
   "cell_type": "code",
   "execution_count": null,
   "id": "201f55e9-53ed-4f51-a510-97f3a75f405a",
   "metadata": {},
   "outputs": [],
   "source": [
    "### Будем пользоваться Chem.SDMolSupplier\n",
    "### Если забыли или не знали как пользоваться той или иной функцией\n",
    "### Информацию по объектам можно получить 2 способами\n",
    "### Для вызова справки расскоментруйте строки ниже\n",
    "# help(Chem.SDMolSupplier) # Python-like\n",
    "# ?Chem.SDMolSupplier # Jupyter-like"
   ]
  },
  {
   "cell_type": "code",
   "execution_count": null,
   "id": "560245c9-aade-4e87-a99f-d8205e58f2b7",
   "metadata": {},
   "outputs": [],
   "source": [
    "### Итератор по молекулам внутри SDF файла\n",
    "suppl = Chem.SDMolSupplier(os.path.join(data_folder,\"bace.sdf\"))\n",
    "### 1. Собираем все названия сохраненных фичей по всем молекулам\n",
    "###    В нашем случае у каждой молекулы ровно 5 фичей, \n",
    "###    но в общем случае там могут быть пропуски\n",
    "S = set([\"_Name\"])\n",
    "for m in suppl: S.update(set(m.GetPropNames()))\n",
    "print(\"Список всех фичей:\", S)\n",
    "\n",
    "### Создаем словарь с фичами и заполняем его\n",
    "MolDict = { s:[] for s in S}\n",
    "for m in suppl:\n",
    "    for feature in S:\n",
    "        MolDict[feature].append(m.GetProp(feature))"
   ]
  },
  {
   "cell_type": "code",
   "execution_count": null,
   "id": "96bf31f5-986a-4fed-bfde-7682400c7125",
   "metadata": {},
   "outputs": [],
   "source": [
    "### Генерируем таблицу на базе словаря\n",
    "df_from_sdf = pd.DataFrame(MolDict)\n",
    "df_from_sdf"
   ]
  },
  {
   "cell_type": "code",
   "execution_count": null,
   "id": "c00f26db-9a7f-47a1-a8e3-ef52cd0c519b",
   "metadata": {},
   "outputs": [],
   "source": [
    "df_from_sdf.info()"
   ]
  },
  {
   "cell_type": "markdown",
   "id": "84b1814f-55d0-48c9-bea5-e382201b3d8d",
   "metadata": {},
   "source": [
    "#### __2.4 Канонизация SMILES__"
   ]
  },
  {
   "cell_type": "markdown",
   "id": "4cbb3c14-9567-4876-869b-3f27328cffd1",
   "metadata": {},
   "source": [
    "__Какие мы видим различия с исходной таблицей?__\n",
    "* _Name нужно переименовать в smiles\n",
    "* Dtype автоматически не преобразовались, нужно менять"
   ]
  },
  {
   "cell_type": "code",
   "execution_count": null,
   "id": "527d4970-fa64-430e-b0d4-ae6283086d66",
   "metadata": {},
   "outputs": [],
   "source": [
    "### переименуем колонку\n",
    "df_from_sdf.rename(columns={\"_Name\":\"smiles\"}, inplace=True)\n",
    "### меняем dtype ровно на те, что указаны в df\n",
    "### если бы были проблемы с конвертацией, интерпретатор бы выругался\n",
    "df_from_sdf = df_from_sdf.astype(dict(df.dtypes))"
   ]
  },
  {
   "cell_type": "code",
   "execution_count": null,
   "id": "a07fcc20-baff-4935-ab47-53b975f47df5",
   "metadata": {},
   "outputs": [],
   "source": [
    "### Проверяем таблицы на равенство\n",
    "if df_from_sdf.equals(df[list(df_from_sdf)]): print(\"\\nМатрицы из csv и sdf идентичны \") \n",
    "else: print(\"Матрицы не равны\")\n",
    "### Матрицы не равны.\n",
    "### Отметим, что для проверки равенства нужно выровнять столбцы\n",
    "### Мы сделали это указав таблицу в виде df[list(df_from_sdf)],\n",
    "### т.е. просим представить df с порядком столбцов как в df_from_sdf\n",
    "### Посмотрим, что не совпадает подробнее\n",
    "df_from_sdf.eq(df[list(df_from_sdf)])"
   ]
  },
  {
   "cell_type": "code",
   "execution_count": null,
   "id": "a9290b68-5d7d-4d72-9ea1-43756a1d61bb",
   "metadata": {},
   "outputs": [],
   "source": [
    "### Посмотрим на первую строку smiles\n",
    "print(df_from_sdf[\"smiles\"][0])\n",
    "print(df[\"smiles\"][0])"
   ]
  },
  {
   "cell_type": "markdown",
   "id": "3f42159a-be84-4337-9325-153f11784b24",
   "metadata": {},
   "source": [
    "__Мы видим классическую ситуацию неравенства smiles__  \n",
    "Можно было бы предположить, что молекулы разные  \n",
    "Но для начала давайте переведем все в канонический вид"
   ]
  },
  {
   "cell_type": "code",
   "execution_count": null,
   "id": "6f0e2461-b2f5-473d-a387-f8069ed050bd",
   "metadata": {},
   "outputs": [],
   "source": [
    "### Переводим smiles к каноническому виду\n",
    "df.loc[:,\"smiles\"] = df[\"smiles\"].apply(lambda x: Chem.MolToSmiles(Chem.MolFromSmiles(x))).copy()\n",
    "df_from_sdf.loc[:,\"smiles\"] = df_from_sdf[\"smiles\"].apply(lambda x: Chem.MolToSmiles(Chem.MolFromSmiles(x))).copy()"
   ]
  },
  {
   "cell_type": "code",
   "execution_count": null,
   "id": "8ed5785f-6f3a-4b5c-b23b-f9c4afd5cdbe",
   "metadata": {},
   "outputs": [],
   "source": [
    "if df_from_sdf.equals(df[list(df_from_sdf)]): print(\"\\nМатрицы из csv и sdf файла идентичны \") \n",
    "else: print(\"Матрицы не равны\"); del df_from_sdf"
   ]
  },
  {
   "cell_type": "code",
   "execution_count": null,
   "id": "8f155dea-0d48-4e6e-920f-37f391e59470",
   "metadata": {},
   "outputs": [],
   "source": [
    "### Еще раз взглянем на то, что получилось\n",
    "df"
   ]
  },
  {
   "cell_type": "markdown",
   "id": "e9cec2c9-b850-437b-80d6-a4f02290f28a",
   "metadata": {
    "tags": []
   },
   "source": [
    "### 3. Генерация фичей и визуализация"
   ]
  },
  {
   "cell_type": "code",
   "execution_count": null,
   "id": "9f890350-49d0-4f4c-9918-863b09ead20e",
   "metadata": {},
   "outputs": [],
   "source": [
    "### Генерируем молекуклярные обекты RDKit из SMILES\n",
    "df[\"rdkit_mol\"] = [ Chem.MolFromSmiles(i) for i in df[\"smiles\"]]\n",
    "### Рассчитываем молекулярную массу, число неводородных атомов и канонический smiles\n",
    "### исходя из молекулярного объекта\n",
    "df[\"MW\"] = [ Descriptors.MolWt(m) for m in df[\"rdkit_mol\"]]\n",
    "df[\"NA\"] = [ m.GetNumAtoms() for m in df[\"rdkit_mol\"]]\n",
    "### Смотрим, что получилось\n",
    "df"
   ]
  },
  {
   "cell_type": "code",
   "execution_count": null,
   "id": "c6326669-b20f-47f9-bc54-18586bc811bd",
   "metadata": {},
   "outputs": [],
   "source": [
    "### Глянем на распределение масс\n",
    "from pandas import Series as ps\n",
    "print(\"Average data for MW\")\n",
    "for function,name in zip( [ps.min, ps.max, ps.mean, ps.median], [\"min\", \"max\", \"mean\", \"median\"] ):\n",
    "    print(\"{:>10} is {:>5.2f}.\".format(name, function(df[\"MW\"])))\n",
    "df[\"MW\"].hist(bins=20)"
   ]
  },
  {
   "cell_type": "code",
   "execution_count": null,
   "id": "96a1fbf6-56b1-4f82-88be-8478ee842a7d",
   "metadata": {},
   "outputs": [],
   "source": [
    "### Сортируем таблицу по значению в столбце MW (молекулярная масса)\n",
    "### в убывающем порядке и оставляем первые 10 молекул\n",
    "arr = df.sort_values(by=\"MW\", ascending=False).iloc[:10]\n",
    "img=Draw.MolsToGridImage(arr['rdkit_mol'].values, molsPerRow=2,subImgSize=(600,450), \n",
    "                         maxMols=999999, \n",
    "                         legends=[\"MW: {:.1f}\".format(x,y)for x,y in zip(arr['MW'].values,arr['smiles'].values)])\n",
    "img"
   ]
  },
  {
   "cell_type": "code",
   "execution_count": null,
   "id": "6f821b8f-0bef-49ca-b183-baa465914625",
   "metadata": {},
   "outputs": [],
   "source": [
    "### Для надежности, давайте запишем эти молекулы в sdf\n",
    "### И глянем на них в визуализаторе\n",
    "### Сейчас они в 2D и без водородов\n",
    "### 1 шаг. Добавляем водороды\n",
    "mols = [Chem.AddHs(m) for m in arr['rdkit_mol']]\n",
    "### 2 шаг. Генерируем 3D-структуры.\n",
    "for m in mols:\n",
    "    AllChem.EmbedMolecule(m)\n",
    "### 3 шаг. Открываем файл для записи и записываем молекулы по порядку\n",
    "###  задав при этом параметр _Name значением smiles из df. \n",
    "### В sdf можно записывать различные параметры молекул\n",
    "with Chem.SDWriter(os.path.join(data_folder,'heavy_mols.sdf')) as w:\n",
    "    for i in range(len(mols)):\n",
    "        m = mols[i]\n",
    "        m.SetProp(\"_Name\",str(arr['smiles'].iloc[i]))\n",
    "        for prop in [\"Class\", \"Model\", \"pIC50\", \"AlogP\"]:\n",
    "            m.SetProp(prop,str(arr[prop].iloc[i]))\n",
    "        w.write(m)"
   ]
  },
  {
   "cell_type": "code",
   "execution_count": null,
   "id": "fbe0fd53-bc7d-4016-8223-fa7947cbdb38",
   "metadata": {},
   "outputs": [],
   "source": [
    "### Давайте взглянем посмотрим на эти молекулы\n",
    "### С помощью интерактивного визуализатора\n",
    "import py3Dmol\n",
    "from ipywidgets import interact,fixed,IntSlider\n",
    "\n",
    "def MolTo3DView(mol, size=(800, 600), style=\"stick\", surface=False, opacity=0.5):\n",
    "    \"\"\"Draw molecule in 3D\n",
    "    \n",
    "    Args:\n",
    "    ----\n",
    "        mol: rdMol, molecule to show\n",
    "        size: tuple(int, int), canvas size\n",
    "        style: str, type of drawing molecule\n",
    "               style can be 'line', 'stick', 'sphere', 'carton'\n",
    "        surface, bool, display SAS\n",
    "        opacity, float, opacity of surface, range 0.0-1.0\n",
    "    Return:\n",
    "    ----\n",
    "        viewer: py3Dmol.view, a class for constructing embedded 3Dmol.js views in ipython notebooks.\n",
    "    \"\"\"\n",
    "    assert style in ('line', 'stick', 'sphere', 'carton')\n",
    "    mblock = Chem.MolToMolBlock(mol)\n",
    "    viewer = py3Dmol.view(width=size[0], height=size[1])\n",
    "    viewer.addModel(mblock, 'mol')\n",
    "    viewer.setStyle({style:{}})\n",
    "    if surface:\n",
    "        viewer.addSurface(py3Dmol.SAS, {'opacity': opacity})\n",
    "    viewer.zoomTo()\n",
    "    return viewer\n",
    "\n",
    "def mol_idx(idx):\n",
    "    mol = mols[idx]\n",
    "    return MolTo3DView(mol, style='stick').show()\n",
    "    \n",
    "_ = interact(mol_idx, idx=IntSlider(min=0,max=len(mols)-1, step=1))\n"
   ]
  },
  {
   "cell_type": "code",
   "execution_count": null,
   "id": "04f7c91b-9125-4291-8214-beee212de201",
   "metadata": {},
   "outputs": [],
   "source": [
    "### Сортируем таблицу по значению в столбце MW (молекулярная масса) и оставляем первые 10 молекул\n",
    "arr = df.sort_values(by=\"MW\").iloc[:10]\n",
    "### Отрисовываем эти 10 молекул\n",
    "img=Draw.MolsToGridImage(arr['rdkit_mol'].values, molsPerRow=2,subImgSize=(500,350),\n",
    "                         ### Обратите внимание на удобную функцию формат, логикой похожую на printf\n",
    "                         ### zip генерирует tuple итератор на оснрове указаанных массивов\n",
    "                         legends=[\"MW: {:.1f}  smi: {}\".format(x,y)for x,y in zip(arr['MW'].values,arr['smiles'].values)])\n",
    "img"
   ]
  },
  {
   "cell_type": "code",
   "execution_count": null,
   "id": "aff36791-0cd9-4d8b-a66a-1a380946e2ab",
   "metadata": {},
   "outputs": [],
   "source": [
    "### Посмотрим на конретный хемотип \"c1c(O)ccc(CCN)c1\"\n",
    "### В первых 200 по массе молекулах\n",
    "mols = df.sort_values(by=\"MW\").iloc[:200]['rdkit_mol'].values\n",
    "p = Chem.MolFromSmarts(\"c1c(O)ccc(CCN)c1\")\n",
    "subms = [x for x in mols if x.HasSubstructMatch(p)]\n",
    "### Выравнеем визуализацию по совпадающей подструктуре\n",
    "AllChem.Compute2DCoords(p)\n",
    "for m in subms:\n",
    "    _ = AllChem.GenerateDepictionMatching2DStructure(m,p)\n",
    "### Отрисовываем\n",
    "img=Draw.MolsToGridImage(subms,molsPerRow=2,subImgSize=(550,200)) \n",
    "img"
   ]
  },
  {
   "cell_type": "code",
   "execution_count": null,
   "id": "6db29d6e-1c9d-4552-9638-501c3d8a008c",
   "metadata": {},
   "outputs": [],
   "source": [
    "### Давайте теперь подсветим общую подструктуру\n",
    "### Функция для отметки общих атомов\n",
    "def higlight_common(mols):\n",
    "    ### находит общую подструктуру для массива молекул\n",
    "    ### Но мы и так ее знаем ))) \"c1c(O)ccc(CCN)c1\"\n",
    "    mcs = rdFMCS.FindMCS(mols)\n",
    "    mcs_mol = Chem.MolFromSmarts(mcs.smartsString)\n",
    "    target = []\n",
    "    ### Проходимся по молекулам и отмечаем атомы\n",
    "    for i in mols:\n",
    "        match = i.GetSubstructMatch(mcs_mol)\n",
    "        target_buf=[]\n",
    "        for atom in i.GetAtoms():\n",
    "            if atom.GetIdx() in match:\n",
    "                target_buf.append(atom.GetIdx())\n",
    "        target.append(target_buf)\n",
    "    ### Возвращаем массив отмеченных атомов\n",
    "    return target\n",
    "target = higlight_common(subms)\n",
    "### Отрисовываем\n",
    "### Отметим, что выравнивание мы сделали на прошлом шаге\n",
    "img=Draw.MolsToGridImage(subms,molsPerRow=2,subImgSize=(550,200), highlightAtomLists=target) \n",
    "img"
   ]
  },
  {
   "cell_type": "markdown",
   "id": "4b92d031-0c8b-4756-a83a-89a5451675f6",
   "metadata": {
    "tags": []
   },
   "source": [
    "### 4. Расчет доноров и акцепторов. SMARTS"
   ]
  },
  {
   "cell_type": "code",
   "execution_count": null,
   "id": "f46c7ba1-b3ee-47bb-a9aa-1feebc6787ce",
   "metadata": {},
   "outputs": [],
   "source": [
    "### Посмотрим на конретный хемотип пиридин с амидной группой в любом положении кольца\n",
    "### При этом должна быть любая тройная связь\n",
    "mols = df.sort_values(by=\"MW\")['rdkit_mol'].values\n",
    "p1 = Chem.MolFromSmarts(\"[$(c1nccc(C(=O)N)c1),$(c1cncc(C(=O)N)c1),$(c1ccnc(C(=O)N)c1)]\")\n",
    "p2 = Chem.MolFromSmarts(\"*#*\")\n",
    "subms = [x for x in mols if x.HasSubstructMatch(p1) and x.HasSubstructMatch(p2)]\n",
    "### Выравнеем визуализацию по совпадающей подструктуре\n",
    "mcs = rdFMCS.FindMCS(subms)\n",
    "mcs_mol = Chem.MolFromSmarts(mcs.smartsString)\n",
    "AllChem.Compute2DCoords(mcs_mol)\n",
    "for m in subms:\n",
    "    _ = AllChem.GenerateDepictionMatching2DStructure(m,mcs_mol)\n",
    "target = higlight_common(subms)\n",
    "### Отрисовываем\n",
    "IPythonConsole.drawOptions.addAtomIndices = True\n",
    "img=Draw.MolsToGridImage(subms,maxMols=9999999,molsPerRow=2,subImgSize=(500,400), highlightAtomLists=target) \n",
    "img\n",
    "### Как видим, общее совпадение оказалось куда более емким"
   ]
  },
  {
   "cell_type": "code",
   "execution_count": null,
   "id": "33442981-c944-4962-9481-a845530b2ffd",
   "metadata": {},
   "outputs": [],
   "source": [
    "### Расчитаем количество центров--доноров водородной связи\n",
    "### Смартс для донора -- любой гетероатом с ненулевым количеством водородов и с неотрицательным зарядом\n",
    "HDon_SMARTS = \"[!$([#6,H0,-,-2,-3])]\"\n",
    "### Генерируем RDKit молекулы из SMARTS-строки\n",
    "HDon_mol = Chem.MolFromSmarts(HDon_SMARTS)\n",
    "HDon_count = pd.Series(df['rdkit_mol'].apply(lambda x: len(x.GetSubstructMatches(HDon_mol))))"
   ]
  },
  {
   "cell_type": "code",
   "execution_count": null,
   "id": "06d7aa38-8d94-4bd3-9e03-9bd0e3c1ab3f",
   "metadata": {},
   "outputs": [],
   "source": [
    "### С помощью IPythonConsole можно контролировать настройки отрисовки\n",
    "### Меняем размер изображения\n",
    "IPythonConsole.molSize = 500,500\n",
    "### функция GetSubstructMatches автоматически помечает выбранные атомы\n",
    "### Молекула отобразится с помеченными донорами\n",
    "df['rdkit_mol'].iloc[1]"
   ]
  },
  {
   "cell_type": "code",
   "execution_count": null,
   "id": "81034659-8e4d-48af-8d13-9816bb126e42",
   "metadata": {},
   "outputs": [],
   "source": [
    "### Сравним наши расчеты со стандартным вариантом из RDKit\n",
    "HDon_count_rdkit = pd.Series([ Chem.Lipinski.NumHDonors(m) for m in df['rdkit_mol'] ])\n",
    "print(\"Сумма разности модулей двух вариантов расчета доноров: {}\".format((HDon_count - HDon_count_rdkit).abs().sum()))"
   ]
  },
  {
   "cell_type": "code",
   "execution_count": null,
   "id": "a1f5ef3d-b58e-4542-b9a5-11de2874fb0b",
   "metadata": {},
   "outputs": [],
   "source": [
    "### Расчитаем количество центров--aкцепторов водородной связи\n",
    "HAcc_SMARTS = \"[!$([#6,F,Cl,Br,I,o,s,nX3,#7v5,#15v5,#16v4,#16v6,*+1,*+2,*+3])]\"\n",
    "### Акцептор Н-связи представляет собой гетероатом без положительного заряда, \n",
    "### Обратите внимание, что включены отрицательно заряженные кислород или сера. \n",
    "### Исключаются галогены, включая F, гетероароматический кислород, сера и пиррол N. \n",
    "### Исключаются более высокие уровни окисления N, P, S. \n",
    "### P(III) включен. Стоит ли исключить (O=S =O)?\n",
    "### Генерируем RDKit молекулы из SMARTS-строки\n",
    "HAcc_mol = Chem.MolFromSmarts(HAcc_SMARTS)\n",
    "HAcc_count = pd.Series(df['rdkit_mol'].apply(lambda x: len(x.GetSubstructMatches(HAcc_mol))))"
   ]
  },
  {
   "cell_type": "code",
   "execution_count": null,
   "id": "8e150b91-14ff-4942-931c-24ee86d7a9ef",
   "metadata": {},
   "outputs": [],
   "source": [
    "df['rdkit_mol'].iloc[1]"
   ]
  },
  {
   "cell_type": "code",
   "execution_count": null,
   "id": "57d3a051-1849-4619-9a18-bc61fc3646c0",
   "metadata": {},
   "outputs": [],
   "source": [
    "### Сравним наши расчеты со стандартным вариантом из RDKit\n",
    "HAcc_count_rdkit = pd.Series([ Chem.Lipinski.NumHAcceptors(m) for m in df['rdkit_mol'] ])\n",
    "print(\"Сумма разности модулей двух вариантов расчета акцепторов: {}\".format((HAcc_count - HAcc_count_rdkit).abs().sum()))"
   ]
  },
  {
   "cell_type": "code",
   "execution_count": null,
   "id": "5c6d8c96-acb2-4dac-9760-0c7d0e798c57",
   "metadata": {},
   "outputs": [],
   "source": [
    "### Расчитаем количество центров--aкцепторов водородной связи\n",
    "HAcc_SMARTS = '[$([O,S;H1;v2]-[!$(*=[O,N,P,S])]),' + \\\n",
    "               '$([O,S;H0;v2]),$([O,S;-]),$([N;v3;!$(N-*=!@[O,N,P,S])]),' \\\n",
    "                + '$([nH0,o,s;+0])]'\n",
    "### Найдено в репозитории RDKit\n",
    "### Генерируем RDKit молекулы из SMARTS-строки\n",
    "HAcc_mol = Chem.MolFromSmarts(HAcc_SMARTS)\n",
    "HAcc_count = pd.Series(df['rdkit_mol'].apply(lambda x: len(x.GetSubstructMatches(HAcc_mol))))\n",
    "### Сравним наши расчеты со стандартным вариантом из RDKit\n",
    "print(\"Сумма разности модулей двух вариантов расчета акцепторов: {}\".format((HAcc_count - HAcc_count_rdkit).abs().sum()))\n",
    "df['rdkit_mol'].iloc[1]"
   ]
  },
  {
   "cell_type": "code",
   "execution_count": null,
   "id": "94a506e0-fae8-4f37-a3c4-5498cb83e7d0",
   "metadata": {},
   "outputs": [],
   "source": [
    "df[\"HDon\"] = HDon_count\n",
    "df[\"HAcc\"] = HAcc_count"
   ]
  },
  {
   "cell_type": "code",
   "execution_count": null,
   "id": "e05ef83e-448d-4d54-b76e-5145f66f7aff",
   "metadata": {},
   "outputs": [],
   "source": [
    "_ = df[\"HDon\"].hist(bins=15)"
   ]
  },
  {
   "cell_type": "code",
   "execution_count": null,
   "id": "b79873ae-ec82-4e48-b425-18038e350004",
   "metadata": {},
   "outputs": [],
   "source": [
    "_ = df[\"HAcc\"].hist(bins=15)"
   ]
  },
  {
   "cell_type": "markdown",
   "id": "73cc5f75-96b1-4e71-93e1-4e2c7a3024d1",
   "metadata": {},
   "source": [
    "### 5. Правило Липинского"
   ]
  },
  {
   "cell_type": "code",
   "execution_count": null,
   "id": "455ff54e-e978-4ba5-a505-809c6f346c67",
   "metadata": {},
   "outputs": [],
   "source": [
    "### Напишем функцию для отображения 2D гистограмм\n",
    "### Квантили нужны, чтобы не отображать пустое пространство. Попробуйте quantile=1e-16\n",
    "def plot2Dhist(df, col1, col2, bins=20, quantile=0.01):\n",
    "    H, xedges, yedges = np.histogram2d(df[col1].values, df[col2].values, bins=bins, \n",
    "                                       range=[df[col1].quantile([quantile, 1-quantile], interpolation='nearest'),\n",
    "                                              df[col2].quantile([quantile, 1-quantile], interpolation='nearest') ] )\n",
    "    fig = plt.figure(figsize=(6, 6))\n",
    "    ax = fig.add_subplot(111, title=col1+\"(x) - \"+col2+\"(y)\")\n",
    "    plt.imshow(H.T, interpolation='nearest', origin='lower', aspect='auto', cmap='plasma',\n",
    "            extent=[xedges[0], xedges[-1], yedges[0], yedges[-1]])"
   ]
  },
  {
   "cell_type": "code",
   "execution_count": null,
   "id": "a463e139-ea33-4df8-a582-4aed69937930",
   "metadata": {},
   "outputs": [],
   "source": [
    "plot2Dhist(df, \"pIC50\", \"HAcc\", bins=[40,19], quantile=1e-20)"
   ]
  },
  {
   "cell_type": "code",
   "execution_count": null,
   "id": "722d8000-3b4e-4c42-b3c8-9371e02b7ca0",
   "metadata": {},
   "outputs": [],
   "source": [
    "plot2Dhist(df, \"pIC50\", \"HDon\", bins=[40,16], quantile=1e-20)"
   ]
  },
  {
   "cell_type": "code",
   "execution_count": null,
   "id": "58f34a35-756a-495f-86b9-1d6ed97b07e6",
   "metadata": {},
   "outputs": [],
   "source": [
    "plot2Dhist(df, \"pIC50\", \"MW\", bins=[40,50], quantile=1e-20)"
   ]
  },
  {
   "cell_type": "code",
   "execution_count": null,
   "id": "78276b32-e7a8-4ab1-80e0-8b47b4d4b38f",
   "metadata": {},
   "outputs": [],
   "source": [
    "plot2Dhist(df, \"pIC50\", \"AlogP\", bins=[40,40], quantile=1e-20)"
   ]
  },
  {
   "cell_type": "markdown",
   "id": "833cc063-7eb0-4566-bd3a-5624946c1844",
   "metadata": {},
   "source": [
    "### 6. Визуализация Белка"
   ]
  },
  {
   "cell_type": "code",
   "execution_count": null,
   "id": "03c8dccb-af14-45e2-bb64-a4aff747b7b3",
   "metadata": {},
   "outputs": [],
   "source": [
    "### А что же за белок такой.\n",
    "### Посмотрим на него ИНТЕРАКТИВНО\n",
    "with open(os.path.join(data_folder,\"4ivt.pdb\")) as ifile:\n",
    "    system = \"\".join([x for x in ifile])\n",
    "view = py3Dmol.view(width=600, height=600)\n",
    "view.addModelsAsFrames(system)\n",
    "view.setStyle({'model': -1}, {\"cartoon\": {'color': 'spectrum'}})\n",
    "view.zoomTo()\n",
    "view.show()"
   ]
  },
  {
   "cell_type": "code",
   "execution_count": null,
   "id": "92ec2a02-8b82-4ad3-a2b9-89d36ec90274",
   "metadata": {},
   "outputs": [],
   "source": [
    "### Примитивным перебором выберем пролины и \n",
    "### небелковую неводную часть\n",
    "\n",
    "view = py3Dmol.view(width=600, height=600)\n",
    "view.addModelsAsFrames(system)\n",
    "i = 0\n",
    "for line in system.split(\"\\n\"):\n",
    "    split = line.split()\n",
    "    style=\"cartoon\"\n",
    "    if len(split) == 0:\n",
    "        continue\n",
    "    if split[0] != \"ATOM\":\n",
    "        if split[0] == \"HETATM\" and split[3]!='HOH':\n",
    "                style=\"sphere\"\n",
    "                color=\"spectrum\"\n",
    "        else:\n",
    "            continue\n",
    "    else:\n",
    "        if split[3] == \"PRO\":\n",
    "            color = \"red\"\n",
    "        else:\n",
    "            color = \"yellow\"\n",
    "    idx = int(split[1])\n",
    "    view.setStyle({'model': -1, 'serial': i+1}, {style: {'color': color}})\n",
    "    i += 1\n",
    "view.zoomTo()\n",
    "view.show()"
   ]
  },
  {
   "cell_type": "code",
   "execution_count": null,
   "id": "618133d6-9d4b-496c-aaf6-a84898f675c3",
   "metadata": {},
   "outputs": [],
   "source": [
    "### Более раумное чтение в классы атомов и молекул\n",
    "class Atom(dict):\n",
    "    def __init__(self, line):\n",
    "        self[\"type\"] = line[0:6].strip()\n",
    "        self[\"idx\"] = line[6:11].strip()\n",
    "        self[\"name\"] = line[12:16].strip()\n",
    "        self[\"resname\"] = line[17:20].strip()\n",
    "        self[\"resid\"] = int(int(line[22:26]))\n",
    "        self[\"x\"] = float(line[30:38])\n",
    "        self[\"y\"] = float(line[38:46])\n",
    "        self[\"z\"] = float(line[46:54])\n",
    "        self[\"sym\"] = line[76:78].strip()\n",
    "\n",
    "    def __str__(self):\n",
    "        line = list(\" \" * 80)\n",
    "\n",
    "        line[0:6] = self[\"type\"].ljust(6)\n",
    "        line[6:11] = self[\"idx\"].ljust(5)\n",
    "        line[12:16] = self[\"name\"].ljust(4)\n",
    "        line[17:20] = self[\"resname\"].ljust(3)\n",
    "        line[22:26] = str(self[\"resid\"]).ljust(4)\n",
    "        line[30:38] = str(self[\"x\"]).rjust(8)\n",
    "        line[38:46] = str(self[\"y\"]).rjust(8)\n",
    "        line[46:54] = str(self[\"z\"]).rjust(8)\n",
    "        line[76:78] = self[\"sym\"].rjust(2)\n",
    "        return \"\".join(line) + \"\\n\"\n",
    "class Molecule(list):\n",
    "    def __init__(self, file):\n",
    "        for line in file:\n",
    "            if \"ATOM\" in line[:4] or \"HETATM\" in line[:6]:\n",
    "                self.append(Atom(line))\n",
    "\n",
    "    def __str__(self):\n",
    "        outstr = \"\"\n",
    "        for at in self:\n",
    "            outstr += str(at)\n",
    "        return outstr\n",
    "\n",
    "with open(os.path.join(data_folder,\"4ivt.pdb\")) as ifile:\n",
    "    mol = Molecule(ifile)"
   ]
  },
  {
   "cell_type": "code",
   "execution_count": null,
   "id": "7b80c107-4137-4f8a-8cf3-406b327856cb",
   "metadata": {},
   "outputs": [],
   "source": [
    "### Умное выделение\n",
    "for at in mol:\n",
    "    if at[\"resname\"] == \"PRO\":\n",
    "        at[\"pymol\"] = {\"stick\": {'color': \"red\"}}\n",
    "    elif at[\"resname\"] == \"GLY\":\n",
    "        at[\"pymol\"] = {\"stick\": {'color': 'blue'}}\n",
    "    elif (at[\"type\"] == \"HETATM\") and (at[\"resname\"] != \"HOH\") :\n",
    "        at[\"pymol\"] = {\"sphere\": {'color': 'spectrum'}}\n",
    "view = py3Dmol.view(width=600, height=500)\n",
    "view.addModelsAsFrames(str(mol))\n",
    "for i, at in enumerate(mol):\n",
    "    default = {\"line\": {'color': 'black'}}\n",
    "    view.setStyle({'model': -1, 'serial': i+1}, at.get(\"pymol\", default))\n",
    "view.zoomTo()\n",
    "view.show()"
   ]
  },
  {
   "cell_type": "code",
   "execution_count": null,
   "id": "34bd1760-7cd9-4b42-8a0a-41019155bbfe",
   "metadata": {},
   "outputs": [],
   "source": []
  }
 ],
 "metadata": {
  "kernelspec": {
   "display_name": "ML",
   "language": "python",
   "name": "python3"
  },
  "language_info": {
   "codemirror_mode": {
    "name": "ipython",
    "version": 3
   },
   "file_extension": ".py",
   "mimetype": "text/x-python",
   "name": "python",
   "nbconvert_exporter": "python",
   "pygments_lexer": "ipython3",
   "version": "3.9.15"
  }
 },
 "nbformat": 4,
 "nbformat_minor": 5
}
