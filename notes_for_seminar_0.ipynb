{
 "cells": [
  {
   "cell_type": "markdown",
   "id": "64297ddd-b7ba-4c1e-a1bf-ba045821a114",
   "metadata": {},
   "source": [
    "### 1. Подключение библиотек\n",
    "Наличие большого числа разносторонних библиотек - одно из ключевых преимуществ языка Python  \n",
    "Среди огромного количества библиотек стоит выделить следующие:\n",
    "* numpy - библиотека для работы с массивами/матрицами\n",
    "* pandas - библиотека для работы с таблицами\n",
    "* RDKit - библиотека для работы с молекулами и хим. сущностями\n",
    "* matplotlib - библиотека для визуализации\n",
    "* psi4 - квантовые расчеты\n",
    "* openmm - мол. динамика\n",
    "* pickle - библиотека для сохранения объектов в бинарных файлах\n",
    "* os - для работы с файловой системой"
   ]
  },
  {
   "cell_type": "code",
   "execution_count": null,
   "id": "688b28d3-715f-4367-a0f6-f00760b4f66f",
   "metadata": {},
   "outputs": [],
   "source": [
    "### Pandas понадобится нам для работы с данными\n",
    "import pandas as pd\n",
    "### Различные подмодули из rdkit\n",
    "from rdkit import Chem\n",
    "from rdkit.Chem import Descriptors\n",
    "from rdkit.Chem import Draw\n",
    "from rdkit.Chem import AllChem\n",
    "from rdkit.Chem import rdFMCS\n",
    "from rdkit.Chem.Draw import IPythonConsole\n",
    "### для сохранения в файл\n",
    "import pickle\n",
    "### для работы с файловой системой\n",
    "import os\n",
    "### для отрисовки\n",
    "from matplotlib import pyplot as plt\n",
    "from matplotlib.image import NonUniformImage\n",
    "### Для работы с массивами\n",
    "import numpy as np\n",
    "### Импорты для анализа потраченной памяти\n",
    "from sys import getsizeof\n",
    "import psutil\n",
    "\n",
    "### Переменная, указывающая папку с нашими файлами\n",
    "data_folder = \"/home/alex/ml_lectures\""
   ]
  },
  {
   "cell_type": "markdown",
   "id": "51482757-f843-4982-9d04-a69ba4d4b5cd",
   "metadata": {},
   "source": [
    "#### Взаимодествие с ОС\n",
    "1. Посредством библиотеки os # Python-like\n",
    "2. Посредством вызова комманд оболочки из ячейки"
   ]
  },
  {
   "cell_type": "markdown",
   "id": "14bcf2e2-ed00-475a-a244-27fb2843d862",
   "metadata": {},
   "source": [
    "### 2. Загрузка исходных данных\n",
    "#### Что представляют данные в датасете\n",
    "    I.  Property  Unit         Description\n",
    "    --  --------  -----------  --------------\n",
    "     1  tag       -            \"gdb9\"; string constant to ease extraction via grep\n",
    "     2  index     -            Consecutive, 1-based integer identifier of molecule\n",
    "     3  A         GHz          Rotational constant A\n",
    "     4  B         GHz          Rotational constant B\n",
    "     5  C         GHz          Rotational constant C\n",
    "     6  mu        Debye        Dipole moment\n",
    "     7  alpha     Bohr^3       Isotropic polarizability\n",
    "     8  homo      Hartree      Energy of Highest occupied molecular orbital (HOMO)\n",
    "     9  lumo      Hartree      Energy of Lowest occupied molecular orbital (LUMO)\n",
    "    10  gap       Hartree      Gap, difference between LUMO and HOMO\n",
    "    11  r2        Bohr^2       Electronic spatial extent\n",
    "    12  zpve      Hartree      Zero point vibrational energy\n",
    "    13  U0        Hartree      Internal energy at 0 K\n",
    "    14  U         Hartree      Internal energy at 298.15 K\n",
    "    15  H         Hartree      Enthalpy at 298.15 K\n",
    "    16  G         Hartree      Free energy at 298.15 K\n",
    "    17  Cv        cal/(mol K)  Heat capacity at 298.15 K"
   ]
  },
  {
   "cell_type": "markdown",
   "id": "56c550c1-f99e-44a2-82fb-2f0e0ea4f3c7",
   "metadata": {},
   "source": [
    "#### __2.1 Из таблицы csv / xlsx__"
   ]
  },
  {
   "cell_type": "code",
   "execution_count": null,
   "id": "b8f25354-77f7-4557-b6ef-caf5cfdc2b9e",
   "metadata": {},
   "outputs": [],
   "source": [
    "### Ищем в папке все, где есть qm9\n",
    "### Посредством библиотеки os # Python-like\n",
    "### функция .lower() применеятся, чтобы поиск \n",
    "### был нечуствителен к регистру (ключ -i в grep)\n",
    "print([filename for filename in os.listdir(data_folder) if \"qm9\" in filename.lower()])\n",
    "print()\n",
    "### Посредством вызова комманд оболочки из ячейки\n",
    "### Отметим, что data_folder передана как переменная\n",
    "!ls $data_folder | grep -i qm9"
   ]
  },
  {
   "cell_type": "code",
   "execution_count": null,
   "id": "19ed1d6f-617f-4ef0-8cee-e7ac9c5c4f8e",
   "metadata": {},
   "outputs": [],
   "source": [
    "### Напрямую загружаем таблицу из csv файла, также можно работать и с xlsx файлами\n",
    "print(\"Время чтения из csv файла:\")\n",
    "### os.path.join корректно объединяет название папок и файлов, \n",
    "###   чтобы не заморачиваться со слэшами\n",
    "%time df1 = pd.read_csv(os.path.join(data_folder,\"qm9.csv\"))\n",
    "### %time - это фишка jupyter, позволяет замерить время выполнения кода в строке\n",
    "### %%time в начале ячейки позволяет замерить ячейку целиком\n",
    "print(\"\\nВремя чтения из xlsx файла:\")\n",
    "%time df2 = pd.read_excel(os.path.join(data_folder,\"qm9.xlsx\"))\n",
    "\n",
    "### Посмотрим на размерность и проверим таблицы на идентичность\n",
    "if df1.equals(df2): print(\"\\nМатрицы из csv и xlsx файла идентичны \") \n",
    "else: raise Exception(\"Матрицы не равны\")\n",
    "print(\"\\nРазмер исходной таблицы:\\n{} строк и {} столбцов\".format(df1.shape[0],df1.shape[1]))"
   ]
  },
  {
   "cell_type": "markdown",
   "id": "0aa6b084-beca-4cfc-977f-c7e4d4988491",
   "metadata": {},
   "source": [
    "__ВЫВОД__: Не храните большие данные в Excel-формате."
   ]
  },
  {
   "cell_type": "markdown",
   "id": "02a54418-dffd-4aef-a66f-1b84c9bfa367",
   "metadata": {},
   "source": [
    "#### __2.2 Из бинарного pickle файла__"
   ]
  },
  {
   "cell_type": "code",
   "execution_count": null,
   "id": "cdafd531-0aeb-4b12-95b2-4f551fea0945",
   "metadata": {},
   "outputs": [],
   "source": [
    "with open(os.path.join(data_folder,\"qm9.pkl\"), 'wb') as fw:\n",
    "    pickle.dump(df1,fw)\n",
    "print(\"Время чтения из pickle файла:\")\n",
    "%time with open(os.path.join(data_folder,\"qm9.pkl\"), 'rb') as f: df3 = pickle.load(f)\n",
    "\n",
    "### Для полной достоверности\n",
    "### Проверим таблицы на идентичность\n",
    "if df1.equals(df3): print(\"\\nМатрицы из csv и pickle файла идентичны \") \n",
    "else: raise Exception(\"Матрицы не равны\")"
   ]
  },
  {
   "cell_type": "code",
   "execution_count": null,
   "id": "34db948b-80cf-451f-8763-1055ff3cccfc",
   "metadata": {},
   "outputs": [],
   "source": [
    "### !!! Вредный совет\n",
    "### Можно сохранять и загружать переменные из кэша Jupyter\n",
    "### Причем она будет доступна из разных ноутбуков с тем же ядром\n",
    "### Полезный совет к вредному: выбирайте уникальные имена\n",
    "### Как в этом примере делит не стоит\n",
    "\n",
    "### Сохранить в кэш\n",
    "%store df1\n",
    "del df1\n",
    "try: df1\n",
    "except NameError: print(\"df1 Deleted successfully\") \n",
    "\n",
    "### Вытащить их кэша\n",
    "%store -r df1\n",
    "try: df1; print(\"df1 Restored successfully\")\n",
    "except: pass"
   ]
  },
  {
   "cell_type": "markdown",
   "id": "664de652-d93e-44b8-9b78-f6297bdccb62",
   "metadata": {},
   "source": [
    "#### __Выводы по чтению__\n",
    "Оптимально по соотношению скорость/универсальность - запись и чтение в csv"
   ]
  },
  {
   "cell_type": "code",
   "execution_count": null,
   "id": "d072d4b4-edbd-42d0-8248-9569178d3957",
   "metadata": {},
   "outputs": [],
   "source": [
    "### Полезный совет. Не забывайте чистить за собой\n",
    "### Взглянем сколько весят уже ненужные нам df2 (и столько же df3)\n",
    "print(\"Размер df2 равен {:.1f} МБ\".format(getsizeof(df1)/1024**2))\n",
    "### обратите внимаение на функцию format, чем-то похожую printf из Си\n",
    "### В данном случае это не обязательно, \n",
    "### !!! но когда речь про ГБ - УДАЛЯЙТЕ НЕНУЖНОЕ\n",
    "print(\"Память текущего процесса ДО чистки    = {:.1f} МБ\".format(psutil.Process().memory_info().rss/1024**2))\n",
    "del df2, df3\n",
    "print(\"Память текущего процесса ПОСЛЕ чистки = {:.1f} МБ\".format(psutil.Process().memory_info().rss/1024**2))"
   ]
  },
  {
   "cell_type": "markdown",
   "id": "51fe67a6-feec-4d76-a8cb-496d0dc305ac",
   "metadata": {},
   "source": [
    "__ВЫВОД__: Удаляйте большие объекты после использования, особенно на локальных машинах"
   ]
  },
  {
   "cell_type": "markdown",
   "id": "77926b36-ef4e-41f7-890d-3d9a2470ddd7",
   "metadata": {},
   "source": [
    "### 3. Манипуляции с таблицей"
   ]
  },
  {
   "cell_type": "code",
   "execution_count": null,
   "id": "e79163ae-d6bc-45c6-ae03-2536bf483f54",
   "metadata": {},
   "outputs": [],
   "source": [
    "### Взглянем на саму таблицу\n",
    "### Краткое инфо по колонкам. Сколько не пустых значений и какой у них тип\n",
    "print(df1.info())\n",
    "### Простой вызов DataFrame позволяет красиво отрисовывать таблицу с помощью matplotlib\n",
    "df1"
   ]
  },
  {
   "cell_type": "markdown",
   "id": "c2a7cd46-75f0-44d3-a8cc-a68cd01099b3",
   "metadata": {},
   "source": [
    "Что же сразу хочется сделать ???  \n",
    "Правильно: __удалить ненужное__, в нашем случае - это mol_id  \n",
    "Но с таким количеством данных нужно быть осторожнее и все проверить  \n",
    "1. Преобразуем mol_id в численный индекс со счетом от нуля.  \n",
    "Для этого воспользуемся функцией .apply,  которая применят передаваемую ей функцию ко всему набору данных  \n",
    "Если вы вдруг забыли синтаксис, то всегда можно вызвать помощь с помощью ствроенной функции help\n",
    "2. Сравним его со стандартной индексацией"
   ]
  },
  {
   "cell_type": "code",
   "execution_count": null,
   "id": "22104e0e-a532-485a-9e73-789e1edb94a0",
   "metadata": {
    "tags": []
   },
   "outputs": [],
   "source": [
    "help(df1[\"mol_id\"].apply)"
   ]
  },
  {
   "cell_type": "code",
   "execution_count": null,
   "id": "99220ecc-a427-42ef-8a9f-c732cd990a21",
   "metadata": {},
   "outputs": [],
   "source": [
    "### Проверка на то, что столбец -- это обычная индексация без проблемных мест\n",
    "check_val = (df1[\"mol_id\"].apply(lambda x: int(x[4:]) - 1) - np.arange(df1.shape[0])).abs().sum()\n",
    "print( \"mol_id просто индексатор\" if check_val==0 else \"С mol_id что-то интересное\")"
   ]
  },
  {
   "cell_type": "code",
   "execution_count": null,
   "id": "578a436d-8a2a-40f5-8a8d-2873bf2b6cb0",
   "metadata": {},
   "outputs": [],
   "source": [
    "### С чистой совестью можем удалять mol_id\n",
    "### inplace указывает на то, что мы просим сделать это на месте,\n",
    "### а не возвращать копию. См. help(df1.drop)\n",
    "df1.drop(columns=\"mol_id\", inplace=True)\n",
    "df1"
   ]
  },
  {
   "cell_type": "code",
   "execution_count": null,
   "id": "c6841768-91c3-4555-ba05-3f7e5c5d4f3a",
   "metadata": {},
   "outputs": [],
   "source": [
    "### Очень важно при отборе фичей для ML избегать сильных корреляций.\n",
    "### Взглянем на парные корреляции по kendall внутри датасета\n",
    "corr_map = df1[list(df1)[1:]].corr(method='kendall')\n",
    "corr_map"
   ]
  },
  {
   "cell_type": "code",
   "execution_count": null,
   "id": "36754743-75d0-4b22-9564-eb1a9c0f7695",
   "metadata": {},
   "outputs": [],
   "source": [
    "corr_np = np.triu(corr_map.to_numpy(), k=1)\n",
    "idx = np.unravel_index(corr_np.argmax(), corr_np.shape)\n",
    "print(\"Максимальная корреляция между столбцами {} и {} и равна {:.10f}\".format( \n",
    "            list(corr_map)[idx[0]], list(corr_map)[idx[1]], corr_map.iloc[idx]))"
   ]
  },
  {
   "cell_type": "code",
   "execution_count": null,
   "id": "7acf1e95-79e6-4565-b19e-0811b26144d0",
   "metadata": {},
   "outputs": [],
   "source": [
    "### Организуем простейший поиск коэффициентов линейного уравнения\n",
    "from sklearn.linear_model import LinearRegression as LR\n",
    "### Подгружаем линейный регрессор\n",
    "lr = LR()\n",
    "### Оптимизируем линейную модель\n",
    "### \"_ = function_call()\" -- удобный способ избавиться от ненужного вывода \n",
    "_ = lr.fit(df1[\"u298\"].values.reshape(-1, 1),df1[\"h298\"].values)\n",
    "print(\"Итоговое уравнение: H_298 = {:.8E} U_298 + {:.8E}\".format(lr.coef_[0], lr.intercept_))\n",
    "### Глянем на максиммальное и среднее отклонения функции от H_298\n",
    "print(\"MAE = {:.3E}, MaxAE = {:.3E}\".format((lr.coef_*df1[\"u298\"] - df1[\"h298\"] + lr.intercept_).abs().mean(), \n",
    "                                            (lr.coef_*df1[\"u298\"] - df1[\"h298\"] + lr.intercept_).abs().max()) )"
   ]
  },
  {
   "cell_type": "markdown",
   "id": "cd1366d9-3709-41a8-8b7f-f9d5b31be576",
   "metadata": {},
   "source": [
    "Как мы видим столбцы __u298 и h298 скоррелированы с точностью, превыщающей точность первичных данных__.  \n",
    "Необходимость в столбце h298 отсутсвует, т.к. мы можем его воссоздать с помощью линейного уравнения из u298.  \n",
    "Мы можем спокойно выкинуть этот столбец.  \n",
    "Вообще, при построении сложных моделей __обычно отказываются от столбцов при корелляции более 0.98 или 0.95.__  \n",
    "Так что у нас были бы еще пару кандидатов на вылет.\n",
    "Отметим, что более многомерные корелляции здесь не проверяются. Не сложно понять, что gap = lumo - homo  \n",
    "Но такого мы таким простым способом не выявим, к сожалению  \n",
    "**<u> ДЗ: почистить датасет, чтобы максимальная корреляция по Кендаллу между столбцами была меньше 0.97</u>**"
   ]
  },
  {
   "cell_type": "code",
   "execution_count": null,
   "id": "9192ac96-60fa-49ee-b336-637e883d0677",
   "metadata": {},
   "outputs": [],
   "source": [
    "df1.drop(columns=\"h298\", inplace=True)\n",
    "df1"
   ]
  },
  {
   "cell_type": "markdown",
   "id": "ef01a537-9571-40ee-9fee-eaa8531c41e8",
   "metadata": {},
   "source": [
    "#### 3.1 Повыводим всякое разное\n",
    "1. Найдем 15 строк с минимальным значением дипольного момента, большего 0.15,\n",
    "   при условии, что r2 строки больше медианого r2 по всему массиву\n",
    "   и отсортируем их по поляризуемости в убывающем порядке"
   ]
  },
  {
   "cell_type": "code",
   "execution_count": null,
   "id": "73d2781d-8a9e-467c-8d4b-5db25a54994d",
   "metadata": {},
   "outputs": [],
   "source": [
    "### 1 способ. Построчно\n",
    "### Оставляем толко строки, для которых выполняется условие на r2\n",
    "df_buff = df1[df1['r2']>df1['r2'].median()]\n",
    "### Оставляем толко строки, для которых выполняется условие на mu\n",
    "df_buff = df_buff[df_buff[\"mu\"]>0.15]\n",
    "### Сортируем таблицу по mu\n",
    "df_buff = df_buff.sort_values(by='mu')\n",
    "### Выделяем первые 15 элементов\n",
    "df_buff = df_buff.head(15)\n",
    "### Сортируем таблицу по alpha\n",
    "df_buff = df_buff.sort_values(by=\"alpha\", ascending=False)\n",
    "df_buff"
   ]
  },
  {
   "cell_type": "code",
   "execution_count": null,
   "id": "d83e1864-5d8d-442f-ab26-a86938462610",
   "metadata": {},
   "outputs": [],
   "source": [
    "### 2 способ. Однострочно\n",
    "### +: Быстрее писать, код компактнее, в каком-то смысле Python-style coding, кому-то кажется элегантнее\n",
    "### -: Есть вероятность, что через неделю вы сами потеряется способность разобратсья в своем коде\n",
    "print(\"Матрицы, полученные однострочно и многострочно равны\" if \\\n",
    "      df1[df1['r2']>df1['r2'].median()][df1[\"mu\"]>0.15].sort_values(by='mu').head(15).sort_values(by=\"alpha\", ascending=False).equals(df_buff) \\\n",
    "      else \"Матрицы не равны\")\n",
    "### Даже pandas иногда предупреждает, что вы, возможно, перебарщиваете"
   ]
  },
  {
   "cell_type": "markdown",
   "id": "e2b07592-1a4b-4d94-aec7-5209d0b6edd3",
   "metadata": {},
   "source": [
    "2. Выделим только углеводороды по условию,   \n",
    "   что в smiles не должно быть символов O,N,F в любом регистре\n",
    "   * С наибольшей теплоемкостью\n",
    "   * Посмотрим на углеводороды с наибольшей поляризуемостью\n",
    "   * С наименьшей разницей homo-lumo"
   ]
  },
  {
   "cell_type": "code",
   "execution_count": null,
   "id": "4eecdaed-0a31-4e08-994c-b75c0b61da6f",
   "metadata": {},
   "outputs": [],
   "source": [
    "df_hc = df1[df1[\"smiles\"].apply(lambda x: 1 not in [c in x for c in {\"o\",\"O\",\"n\",\"N\",\"F\"}])]"
   ]
  },
  {
   "cell_type": "code",
   "execution_count": null,
   "id": "9b787481-a81f-4266-a054-8c103e9a1ca4",
   "metadata": {},
   "outputs": [],
   "source": [
    "arr = df_hc.sort_values(by=\"cv\", ascending=False).head(10)\n",
    "arr"
   ]
  },
  {
   "cell_type": "code",
   "execution_count": null,
   "id": "09d64c72-8944-4060-ae7e-511df995576a",
   "metadata": {},
   "outputs": [],
   "source": [
    "### Отрисовываем эти молекул для лучшего восприятия\n",
    "img=Draw.MolsToGridImage([Chem.MolFromSmiles(x) for x in arr['smiles'].values], molsPerRow=2,subImgSize=(600,450),  \n",
    "                         legends=[\"Cv: {:.2f}\".format(x) for x in arr['cv'].values])\n",
    "img"
   ]
  },
  {
   "cell_type": "code",
   "execution_count": null,
   "id": "45a65dfc-5d89-46cb-8f45-a6612dec77a7",
   "metadata": {},
   "outputs": [],
   "source": [
    "arr = df_hc.sort_values(by=\"alpha\", ascending=False).head(10)\n",
    "arr"
   ]
  },
  {
   "cell_type": "code",
   "execution_count": null,
   "id": "8fb1c420-f73e-4276-a76b-73db2f2e4911",
   "metadata": {},
   "outputs": [],
   "source": [
    "img=Draw.MolsToGridImage([Chem.MolFromSmiles(x) for x in arr['smiles'].values], molsPerRow=2,subImgSize=(600,450),  \n",
    "                         legends=[\"Alpha: {:.2f}\".format(x) for x in arr['alpha'].values])\n",
    "img"
   ]
  },
  {
   "cell_type": "code",
   "execution_count": null,
   "id": "6b465f1d-8b87-4ae3-9b88-737376a3c56b",
   "metadata": {},
   "outputs": [],
   "source": [
    "arr = df_hc.sort_values(by=\"gap\", ascending=True).head(10)\n",
    "arr"
   ]
  },
  {
   "cell_type": "code",
   "execution_count": null,
   "id": "0e579d93-8968-46b4-8788-ce6c93f2c0f1",
   "metadata": {},
   "outputs": [],
   "source": [
    "img=Draw.MolsToGridImage([Chem.MolFromSmiles(x) for x in arr['smiles'].values], molsPerRow=2,subImgSize=(600,450),  \n",
    "                         legends=[\"Gap: {:.2E}\".format(x) for x in arr['gap'].values])\n",
    "img"
   ]
  },
  {
   "cell_type": "markdown",
   "id": "0ea14cd4-3583-4279-9b4b-0c7d1eb28f4e",
   "metadata": {},
   "source": [
    "#### 3.2 Цвиттер-ионы\n",
    "Хоть все молекулы в датасете суммарно незаряжены, может случиться так,  \n",
    "что стабильная форма -- это цвиттер-ион.  \n",
    "* Найдем все цвиттер-ионы. Пока без SMARTS.  \n",
    "  Заряда по модулю больше одного быть не может.   \n",
    "  \"минус\" заряд -- это наличие подстроки '-]'  \n",
    "  \"плюс\" заряд -- это наличие подстроки '+]'\n",
    "* Посмотрим максимальное кол-во + и - формальных зарядов\n",
    "* Для цвиттер-ионов с одним + и - найдем расстояние в связях между зарядами\n",
    "* Построим зависимость дипольного момента от этого расстояния"
   ]
  },
  {
   "cell_type": "code",
   "execution_count": null,
   "id": "83a613bf-fc9d-42b4-863d-d0e28c874bb2",
   "metadata": {},
   "outputs": [],
   "source": [
    "### Считаем количество отр и пол зарядов в каждой молекуле\n",
    "minus_count = df1['smiles'].apply(lambda x: x.lower().count('-]'))\n",
    "plus_count  = df1['smiles'].apply(lambda x: x.lower().count('+]'))\n",
    "\n",
    "### Смотрим на максимальное количество зарядов внутри одной молекулы\n",
    "print(\"Максимальное количество '-' зарядов в молекуле = {}\".format( minus_count.max()) )\n",
    "print(\"Максимальное количество '+' зарядов в молекуле = {}\".format( plus_count.max()) )\n",
    "\n",
    "### Проверяем нейтральность всех молекул\n",
    "print(\"Заряженных молекул {}\".format((minus_count - plus_count).abs().sum()))\n",
    "\n",
    "### Выделяем цвиттер-ионы\n",
    "### Можно выделить подтаблицу по объекту pd.Series с булевыми значениями\n",
    "### где True означает выбрать этот индекс\n",
    "df_zi = df1[df1['smiles'].apply(lambda x: True if x.lower().count('-]')==1 else False)].copy()\n",
    "df_zi"
   ]
  },
  {
   "cell_type": "code",
   "execution_count": null,
   "id": "d418bdda-9473-4223-a814-d55aefe0fa3f",
   "metadata": {},
   "outputs": [],
   "source": [
    "### Функция на основе rdkit для расчета расстояний между ионами\n",
    "def GetDistance(smi):\n",
    "    ### Переводим SMILES в rdkit объект\n",
    "    m = Chem.MolFromSmiles(smi)\n",
    "    idx=[]\n",
    "    ### Проходимся по всем атомам и сохраняем индексы формально заряженных атомов\n",
    "    for a in m.GetAtoms():\n",
    "        if a.GetFormalCharge()!=0:\n",
    "            idx.append(a.GetIdx())\n",
    "    ### Используя GetDistanceMatrix рассчитваем матрицу расстояний и выделяем нужный элемент\n",
    "    ### Не самый оптимальный вариант считать всю матрицу для последующего выделения одного элемента\n",
    "    ### Буду рад, если предложите свое решение\n",
    "    return Chem.rdmolops.GetDistanceMatrix(m)[idx[0],idx[1]]"
   ]
  },
  {
   "cell_type": "markdown",
   "id": "36cc1490-6648-4f7f-a65c-7e6e33eab2a9",
   "metadata": {},
   "source": [
    "**<u> ДЗ: </u>**  \n",
    "* Выделить датасет только с молекулами, которые содержат более одного фтора   \n",
    "* Создать столбец со значением максимального расстояния между фторами в молекуле  \n",
    "* Найти молекулу с самым большим расстоянием между фторами\n",
    "* Если таких молекул несколько, то найти среди них ту, у которой наибольший дипольный момент\n"
   ]
  },
  {
   "cell_type": "code",
   "execution_count": null,
   "id": "e7ea7c14-82ef-4193-ae40-5c17748e2e0a",
   "metadata": {},
   "outputs": [],
   "source": [
    "### Последний столбец )))\n",
    "df_zi[\"ion_dist\"] = df_zi[\"smiles\"].apply(GetDistance)\n",
    "df_zi"
   ]
  },
  {
   "cell_type": "code",
   "execution_count": null,
   "id": "8ed321ce-bd93-44b4-81be-37904308c24d",
   "metadata": {},
   "outputs": [],
   "source": [
    "### Напишем функцию для отображения 2D гистограмм\n",
    "### Квантили нужны, чтобы не отображать пустое пространство. Попробуйте quantile=1e-16\n",
    "def plot2Dhist(df, col1, col2, bins=20, quantile=0.01):\n",
    "    H, xedges, yedges = np.histogram2d(df[col1].values, df[col2].values, bins=bins, \n",
    "                                       range=[df[col1].quantile([quantile, 1-quantile], interpolation='nearest'),\n",
    "                                              df[col2].quantile([quantile, 1-quantile], interpolation='nearest') ] )\n",
    "    fig = plt.figure(figsize=(6, 6))\n",
    "    ax = fig.add_subplot(111, title=col1+\"(x) - \"+col2+\"(y)\")\n",
    "    plt.imshow(H.T, interpolation='nearest', origin='lower', aspect='auto', cmap='plasma',\n",
    "            extent=[xedges[0], xedges[-1], yedges[0], yedges[-1]])"
   ]
  },
  {
   "cell_type": "code",
   "execution_count": null,
   "id": "79f2c7ff-48e8-4ad9-a94e-f340e61e0ae2",
   "metadata": {},
   "outputs": [],
   "source": [
    "### Видно небольшой рост наиболее вероятного mu \n",
    "###  при увеличении расстояния между ионами\n",
    "plot2Dhist(df_zi, \"ion_dist\", \"mu\", quantile=0.03, bins=[20,50])"
   ]
  },
  {
   "cell_type": "code",
   "execution_count": null,
   "id": "705a1ea2-371c-4395-96a7-382aa149cf59",
   "metadata": {},
   "outputs": [],
   "source": [
    "### Сильная корелляция (линейная зависимость)\n",
    "plot2Dhist(df1, \"u298\", \"g298\", quantile=0.01, bins=50)"
   ]
  },
  {
   "cell_type": "code",
   "execution_count": null,
   "id": "2f91c993-460f-4e70-8acc-95cd3572fbde",
   "metadata": {},
   "outputs": [],
   "source": [
    "### Видна средняя скорелированность\n",
    "plot2Dhist(df1, \"alpha\", \"cv\", quantile=0.005, bins=100)"
   ]
  },
  {
   "cell_type": "code",
   "execution_count": null,
   "id": "0a0ebee6-dff5-4a67-a016-2fba0ac70fc3",
   "metadata": {},
   "outputs": [],
   "source": [
    "### Нет особой корреляции\n",
    "plot2Dhist(df1, \"C\", \"mu\", quantile=0.01, bins=100)"
   ]
  },
  {
   "cell_type": "code",
   "execution_count": null,
   "id": "e5d3d097-9603-4211-8369-35841920b409",
   "metadata": {},
   "outputs": [],
   "source": [
    "### Наблюдаем некую квантованность zpve\n",
    "plot2Dhist(df1, \"zpve\", \"A\", quantile=0.03, bins=100)"
   ]
  },
  {
   "cell_type": "code",
   "execution_count": null,
   "id": "ec9d1a4c-e6fa-4349-b385-c2695fb770a0",
   "metadata": {},
   "outputs": [],
   "source": [
    "### Посмотрим отдельно гистограмму zpve\n",
    "df1['zpve'].hist(bins=500)"
   ]
  },
  {
   "cell_type": "markdown",
   "id": "bf7f6fb7-5266-4bb9-9037-1cbe4fc94494",
   "metadata": {},
   "source": [
    "<u> __ДЗ: Попытайтесь объяснить такое поведение zpve__</u>"
   ]
  },
  {
   "cell_type": "code",
   "execution_count": null,
   "id": "925fd370-6480-44b2-aa26-acb6560cf656",
   "metadata": {},
   "outputs": [],
   "source": [
    "### Отрисовываем распределение молекул по числу гетероатомов\n",
    "fig, ax = plt.subplots(figsize=(12, 6))\n",
    "a_heights, a_bins = np.histogram(df1['smiles'].apply(lambda x: x.lower().count('n')))\n",
    "b_heights, b_bins = np.histogram(df1['smiles'].apply(lambda x: x.lower().count('o')), bins=a_bins)\n",
    "c_heights, c_bins = np.histogram(df1['smiles'].apply(lambda x: x.lower().count('f')), bins=a_bins)\n",
    "width = (a_bins[1] - a_bins[0])/3\n",
    "ax.bar(a_bins[:-1], a_heights, width=width, facecolor='cornflowerblue', label=\"N count\")\n",
    "ax.bar(b_bins[:-1]+width, b_heights, width=width, facecolor='seagreen', label=\"O count\")\n",
    "ax.bar(c_bins[:-1]-width, c_heights, width=width, facecolor='orange',  label=\"F count\")\n",
    "_ = ax.legend()"
   ]
  },
  {
   "cell_type": "code",
   "execution_count": null,
   "id": "c8b9862a-0a09-4857-b217-fbfb7094bf74",
   "metadata": {},
   "outputs": [],
   "source": [
    "### Ответ про zpve, не запускать\n",
    "# df1[\"atom_count\"] = df1['smiles'].apply( lambda x: len(AllChem.AddHs(Chem.MolFromSmiles(x)).GetAtoms()) )\n",
    "# plot2Dhist(df1, \"zpve\", \"atom_count\", quantile=0.01, bins=50)"
   ]
  }
 ],
 "metadata": {
  "kernelspec": {
   "display_name": "ML",
   "language": "python",
   "name": "python3"
  },
  "language_info": {
   "codemirror_mode": {
    "name": "ipython",
    "version": 3
   },
   "file_extension": ".py",
   "mimetype": "text/x-python",
   "name": "python",
   "nbconvert_exporter": "python",
   "pygments_lexer": "ipython3",
   "version": "3.9.15"
  }
 },
 "nbformat": 4,
 "nbformat_minor": 5
}
